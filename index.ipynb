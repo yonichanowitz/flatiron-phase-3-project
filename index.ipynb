version https://git-lfs.github.com/spec/v1
oid sha256:345484e463c700e5dc9dc20040317ca7885dd5df6abce307d5278b3c5a5328c8
size 2456960
